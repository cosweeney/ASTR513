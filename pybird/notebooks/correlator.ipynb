{
 "cells": [
  {
   "cell_type": "code",
   "execution_count": 1,
   "metadata": {},
   "outputs": [],
   "source": [
    "import os, sys\n",
    "import numpy as np\n",
    "import matplotlib\n",
    "import matplotlib.pyplot as plt\n",
    "from classy import Class"
   ]
  },
  {
   "cell_type": "code",
   "execution_count": 2,
   "metadata": {},
   "outputs": [],
   "source": [
    "font = {'size': 14}\n",
    "axislabelfontsize='large'\n",
    "matplotlib.rc('font', **font)"
   ]
  },
  {
   "cell_type": "markdown",
   "metadata": {},
   "source": [
    "# The PyBird Correlator Class"
   ]
  },
  {
   "cell_type": "markdown",
   "metadata": {},
   "source": [
    "**PyBird** computes EFT predictions for correlators of density fields: in real space or redshift space (multipoles), of dark matter or biased tracers, in Fourier (power spectrum) or configuration space (correlation function).  \n",
    "What and how we want **PyBird** to perform such computation is communicated through the `Correlator()` class.  "
   ]
  },
  {
   "cell_type": "code",
   "execution_count": 3,
   "metadata": {},
   "outputs": [],
   "source": [
    "from pybird.correlator import Correlator"
   ]
  },
  {
   "cell_type": "markdown",
   "metadata": {},
   "source": [
    "### Setting the linear cosmology"
   ]
  },
  {
   "cell_type": "markdown",
   "metadata": {},
   "source": [
    "Redshift?"
   ]
  },
  {
   "cell_type": "code",
   "execution_count": 46,
   "metadata": {},
   "outputs": [],
   "source": [
    "z = 0.57"
   ]
  },
  {
   "cell_type": "markdown",
   "metadata": {},
   "source": [
    "First, we create a **CLASS** Engine `M`, that will be provided to the **PyBird** Correlator Engine. "
   ]
  },
  {
   "cell_type": "code",
   "execution_count": 47,
   "metadata": {},
   "outputs": [],
   "source": [
    "M = Class()\n",
    "cosmo = {'omega_b': 0.02235, 'omega_cdm': 0.120, 'h': 0.675, 'ln10^{10}A_s': 3.044, 'n_s': 0.965}\n",
    "M.set(cosmo)\n",
    "M.set({'output': 'mPk', 'P_k_max_h/Mpc': 1, 'z_max_pk': z})\n",
    "M.compute()"
   ]
  },
  {
   "cell_type": "code",
   "execution_count": 48,
   "metadata": {},
   "outputs": [],
   "source": [
    "kk = np.logspace(-5, 0, 200)\n",
    "pk_lin = np.array([M.pk_lin(k*M.h(), z)*M.h()**3 for k in kk]) "
   ]
  },
  {
   "cell_type": "code",
   "execution_count": 49,
   "metadata": {},
   "outputs": [],
   "source": [
    "D1, f1 = M.scale_independent_growth_factor(z), M.scale_independent_growth_factor_f(z)"
   ]
  },
  {
   "cell_type": "markdown",
   "metadata": {},
   "source": [
    "All what **PyBird** needs is a linear cosmology, e.g., a linear power spectrum `pklin` and the $k$-array on which it is provided, `kk`.  \n",
    "In redshift space, we will also need to provide the growth rate `f1`. \n",
    "\n",
    "That's all. \n",
    "\n",
    "Oh, and let us specify a $k$-array (or $s$-array for configuration space) on which we want to have the EFT prediction evaluated. "
   ]
  },
  {
   "cell_type": "code",
   "execution_count": 8,
   "metadata": {},
   "outputs": [],
   "source": [
    "dk, ds = 0.01, 5\n",
    "kd = np.arange(0.005, 0.3, dk)\n",
    "sd = np.arange(10, 200, ds)"
   ]
  },
  {
   "cell_type": "markdown",
   "metadata": {},
   "source": [
    "### Setting the Pybird Correlator class"
   ]
  },
  {
   "cell_type": "markdown",
   "metadata": {},
   "source": [
    "We create a **PyBird** Correlator Engine `N`."
   ]
  },
  {
   "cell_type": "code",
   "execution_count": 9,
   "metadata": {},
   "outputs": [],
   "source": [
    "N = Correlator()"
   ]
  },
  {
   "cell_type": "markdown",
   "metadata": {},
   "source": [
    "Next, we specify what we want to PyBird to compute for us.  \n",
    "\n",
    "We can see what can be specified with the following command. "
   ]
  },
  {
   "cell_type": "code",
   "execution_count": 10,
   "metadata": {},
   "outputs": [
    {
     "name": "stdout",
     "output_type": "stream",
     "text": [
      "\n",
      "\n",
      "Configuration commands [.set(config_dict)]\n",
      "----------------------\n",
      "'output': ['str'] ; options: ['bPk', 'bCf', 'mPk', 'mCf', 'bmPk', 'bmCf']\n",
      "    - Correlator: biased tracers / matter / biased tracers-matter -- power spectrum / correlation function.\n",
      "    * default: bPk\n",
      "'multipole': ['int'] ; options: [0, 2, 3]\n",
      "    - Number of multipoles. 0: real space. 2: monopole + quadrupole. 3: monopole + quadrupole + hexadecapole.\n",
      "    * default: 2\n",
      "'z': ['float']\n",
      "    - Effective redshift.\n",
      "    * default: None\n",
      "'km': ['float']\n",
      "    - Inverse tracer spatial extension scale in [h/Mpc].\n",
      "    * default: 0.7\n",
      "'kr': ['float']\n",
      "    - Inverse velocity product renormalization scale in [h/Mpc].\n",
      "    * default: 0.25\n",
      "'nd': ['float']\n",
      "    - Mean galaxy density\n",
      "    * default: 0.0003\n",
      "'kmax': ['float']\n",
      "    - kmax in [h/Mpc] for 'output': '_Pk'\n",
      "    * default: 0.25\n",
      "'with_bias': ['bool']\n",
      "    - Bias (in)dependent evalution. Automatically set to False for 'with_time': False.\n",
      "    * default: False\n",
      "'eft_basis': ['str']\n",
      "    - Basis of EFT parameters: 'eftoflss' (default), 'westcoast', or 'eastcoast'. See cosmology command 'bias' for more details.\n",
      "    * default: eftoflss\n",
      "'with_stoch': ['bool']\n",
      "    - With stochastic terms.\n",
      "    * default: False\n",
      "'with_nnlo_counterterm': ['bool']\n",
      "    - With next-to-next-to-leading counterterm k^4 pk_lin.\n",
      "    * default: False\n",
      "'with_tidal_alignments': ['bool']\n",
      "    - With tidal alignements: bq * (\\mu^2 - 1/3) \\delta_m \n",
      "    * default: False\n",
      "'with_time': ['bool']\n",
      "    - Time (in)dependent evaluation. For 'with_redshift_bin': True, automatically set to False.\n",
      "    * default: True\n",
      "'with_exact_time': ['bool']\n",
      "    - Exact time dependence or EdS approximation.\n",
      "    * default: False\n",
      "'with_quintessence': ['bool']\n",
      "    - Clustering quintessence.\n",
      "    * default: False\n",
      "'with_nonequal_time': ['bool']\n",
      "    - Non equal time correlator. Automatically set to 'with_time' to False \n",
      "    * default: False\n",
      "'z1': ['float']\n",
      "    - Redshift z_1 for non equal time correlator.\n",
      "    * default: None\n",
      "'z2': ['float']\n",
      "    - Redshift z_2 for non equal time correlator.\n",
      "    * default: None\n",
      "'with_resum': ['bool']\n",
      "    - Apply IR-resummation.\n",
      "    * default: True\n",
      "'optiresum': ['bool']\n",
      "    - [depreciated: keep on default False] True: Resumming only with the BAO peak. False: Resummation on the full correlation function.\n",
      "    * default: False\n",
      "'xdata': ['list', 'ndarray']\n",
      "    - Array of k [h/Mpc] (or s [Mpc/h]) on which to output the correlator. If 'with_binning' is True, please provide the central k (or s). If not, it can be bin-weighted k (or s). If no 'xdata' provided, output is on internal default array. \n",
      "    * default: None\n",
      "'with_binning': ['bool']\n",
      "    - Apply binning for linear-spaced bins.\n",
      "    * default: False\n",
      "'binsize': ['float']\n",
      "    - size of the bin.\n",
      "    * default: None\n",
      "'with_ap': ['bool']\n",
      "    - Apply Alcock Paczynski effect. \n",
      "    * default: False\n",
      "'H_fid': ['float']\n",
      "    - Hubble parameter by H_0. To specify if 'with_ap' is True.\n",
      "    * default: None\n",
      "'D_fid': ['float']\n",
      "    - Angular distance times H_0. To specify if 'with_ap' is True.\n",
      "    * default: None\n",
      "'with_survey_mask': ['bool']\n",
      "    - Apply survey mask. Automatically set to False for 'output': '_Cf'.\n",
      "    * default: False\n",
      "'survey_mask_arr_p': ['list', 'ndarray']\n",
      "    - Mask convolution array for 'output': '_Pk'.\n",
      "    * default: None\n",
      "'survey_mask_mat_kp': ['list', 'ndarray']\n",
      "    - Mask convolution matrix for 'output': '_Pk'.\n",
      "    * default: None\n",
      "'with_fibercol': ['bool']\n",
      "    - Apply fiber collision effective window corrections.\n",
      "    * default: False\n",
      "'with_wedge': ['bool']\n",
      "    - Rotate multipoles to wedges\n",
      "    * default: False\n",
      "'wedge_mat_wl': ['list', 'ndarray']\n",
      "    - multipole-to-wedge rotation matrix\n",
      "    * default: None\n",
      "'with_redshift_bin': ['bool']\n",
      "    - Account for the galaxy count distribution over a redshift bin.\n",
      "    * default: False\n",
      "'redshift_bin_zz': ['list', 'ndarray']\n",
      "    - Array of redshift points inside a redshift bin.\n",
      "    * default: None\n",
      "'redshift_bin_nz': ['list', 'ndarray']\n",
      "    - Galaxy counts distribution over a redshift bin.\n",
      "    * default: None\n",
      "'accboost': ['int'] ; options: [1, 2, 3]\n",
      "    - Sampling accuracy boost.\n",
      "    * default: 1\n",
      "'fftbias': ['float']\n",
      "    - real power bias for fftlog decomposition of pk_lin (usually to keep to default value)\n",
      "    * default: -1.6\n",
      "'keep_loop_pieces_independent': ['bool']\n",
      "    - keep the loop pieces 13 and 22 independent (mainly for debugging)\n",
      "    * default: False\n",
      "\n",
      "\n",
      "Cosmology commands [.compute(cosmo_dict)]\n",
      "------------------\n",
      "'pk_lin': ['list', 'ndarray']\n",
      "    - Linear matter power spectrum in [Mpc/h]^3\n",
      "    * default: None\n",
      "'kk': ['list', 'ndarray']\n",
      "    - k-array in [h/Mpc] on which pk_lin is evaluated\n",
      "    * default: None\n",
      "'f': ['float']\n",
      "    - Scale independent growth rate (for RSD). Automatically set to 0 for 'output': 'm__'.\n",
      "    * default: None\n",
      "'bias': ['dict']\n",
      "    - EFT parameters in dictionary to specify as                     ('eft_basis': 'eftoflss') \\{ 'b1'(a), 'b2'(a), 'b3'(a), 'b4'(a), 'cct', 'cr1'(b), 'cr2'(b), 'ce0'(d), 'ce1'(d), 'ce2'(d)] \\}                     ('eft_basis': 'westcoast') \\{ 'b1'(a), 'c2'(a), 'c4'(a), 'b3'(a), 'cct', 'cr1'(b), 'cr2'(b), 'ce0'(d), 'ce1'(d), 'ce2'(d)] \\}                     ('eft_basis': 'eastcoast') \\{ 'b1'(a), 'b2'(a), 'bG2'(a), 'bgamma3'(a), 'c0', 'c2'(b), 'c4'(c), 'ce0'(d), 'ce1'(d), 'ce2'(d)] \\}                     if (a): 'b' in 'output'; (b): 'multipole'>=2; (d): 'with_stoch' is True \n",
      "    * default: None\n",
      "'H': ['float']\n",
      "    - Hubble parameter by H_0. To specify if 'with_ap' is True.\n",
      "    * default: None\n",
      "'DA': ['float']\n",
      "    - Angular distance times H_0. To specify if 'with_ap' is True.\n",
      "    * default: None\n",
      "'z': ['float']\n",
      "    - Effective redshift(s). To specify if 'with_time' is False or 'with_exact_time' is True.\n",
      "    * default: None\n",
      "'D': ['float']\n",
      "    - Scale independent growth function. To specify if 'with_time' is False, e.g., 'with_nonequal_time' or 'with_redshift_bin' is True.\n",
      "    * default: None\n",
      "'A': ['float']\n",
      "    - Amplitude rescaling, i.e, A = A_s / A_s^\\{fid\\}. Default: A=1. If 'with_time' is False, can in some ways be used as a fast parameter.\n",
      "    * default: None\n",
      "'Omega0_m': ['float']\n",
      "    - Fractional matter abundance at present time. To specify if 'with_exact_time' is True.\n",
      "    * default: None\n",
      "'w0_fld': ['float']\n",
      "    - Dark energy equation of state parameter. To specify in presence of dark energy if 'with_exact_time' is True (otherwise w0 = -1).\n",
      "    * default: None\n",
      "'Dz': ['list', 'ndarray']\n",
      "    - Scale independent growth function over redshift bin. To specify if 'with_redshift_bin' is True.\n",
      "    * default: None\n",
      "'fz': ['list', 'ndarray']\n",
      "    - Scale independent growth rate over redshift bin. To specify if 'with_redshift_bin' is True.\n",
      "    * default: None\n",
      "'rz': ['list', 'ndarray']\n",
      "    - Comoving distance in [Mpc/h] over redshift bin. To specify if 'with_redshift_bin' or if 'output':'w'.\n",
      "    * default: None\n",
      "'D1': ['float']\n",
      "    - Scale independent growth function at redshift z1. To specify if 'with_nonequal_time' is True.\n",
      "    * default: None\n",
      "'D2': ['float']\n",
      "    - Scale independent growth function at redshift z2. To specify if 'with_nonequal_time' is True.\n",
      "    * default: None\n",
      "'f1': ['float']\n",
      "    - Scale independent growth rate at redshift z1. To specify if 'with_nonequal_time' is True.\n",
      "    * default: None\n",
      "'f2': ['float']\n",
      "    - Scale independent growth rate at redshift z2. To specify if 'with_nonequal_time' is True.\n",
      "    * default: None\n",
      "'Psmooth': ['list', 'ndarray']\n",
      "    - Smooth power spectrum. To specify if 'with_nnlo_counterterm' is True.\n",
      "    * default: None\n"
     ]
    }
   ],
   "source": [
    "N.info()"
   ]
  },
  {
   "cell_type": "markdown",
   "metadata": {},
   "source": [
    "#### Dark matter in real space"
   ]
  },
  {
   "cell_type": "markdown",
   "metadata": {},
   "source": [
    "Let us start with dark matter in real space. "
   ]
  },
  {
   "cell_type": "code",
   "execution_count": 11,
   "metadata": {},
   "outputs": [],
   "source": [
    "N.set({'output': 'mPk', 'multipole': 0, 'kmax': 0.3, 'xdata': kd, 'with_bias': True}) "
   ]
  },
  {
   "cell_type": "markdown",
   "metadata": {},
   "source": [
    "The first time we ask **PyBird** to do a specific computation, it will generate loop matrices according the FFTLog of the linear power spectrum, see e.g., App. A of [2110.07539](https://arxiv.org/abs/2110.07539) , and save them.  \n",
    "The next time, it will simply load the matrices, and the call to this computation setup will be much faster. \n",
    "\n",
    "Now let **PyBird** compute. "
   ]
  },
  {
   "cell_type": "code",
   "execution_count": 12,
   "metadata": {},
   "outputs": [],
   "source": [
    "N.compute({'kk': kk, 'pk_lin': pk_lin, 'bias': {'cct': 1}})"
   ]
  },
  {
   "cell_type": "markdown",
   "metadata": {},
   "source": [
    "We can now get the matter power spectrum: "
   ]
  },
  {
   "cell_type": "code",
   "execution_count": 13,
   "metadata": {},
   "outputs": [],
   "source": [
    "mPk = N.get()"
   ]
  },
  {
   "cell_type": "code",
   "execution_count": 14,
   "metadata": {},
   "outputs": [
    {
     "data": {
      "image/png": "[encoded data removed]",
      "text/plain": [
       "<Figure size 700x400 with 1 Axes>"
      ]
     },
     "metadata": {},
     "output_type": "display_data"
    }
   ],
   "source": [
    "plt.figure(figsize=(7,4))\n",
    "plt.plot(kd, kd * mPk[0], 'k')\n",
    "plt.xlabel(r'$k \\ [h/{\\rm Mpc}]$')\n",
    "plt.ylabel(r'$k \\ P_m(k) \\ [{\\rm Mpc}/h]^2$')\n",
    "plt.show()"
   ]
  },
  {
   "cell_type": "markdown",
   "metadata": {},
   "source": [
    "As you may have noticed, communicating with **PyBird** Correlator Engine is very similar to the **CLASS** Engine. "
   ]
  },
  {
   "cell_type": "markdown",
   "metadata": {},
   "source": [
    "#### Biased tracers in redshift space"
   ]
  },
  {
   "cell_type": "markdown",
   "metadata": {},
   "source": [
    "Let us now turn to biased tracers in redshift space.\n",
    "\n",
    "We load some fiducial EFT parameters from a previous fit. "
   ]
  },
  {
   "cell_type": "code",
   "execution_count": 15,
   "metadata": {},
   "outputs": [
    {
     "name": "stdout",
     "output_type": "stream",
     "text": [
      "{'b1': 1.9535, 'c2': 0.5863, 'c4': 0.0, 'b3': -0.3948, 'cct': 0.1839, 'cr1': -0.8414, 'cr2': -0.8084, 'ce0': 1.5045, 'ce1': 0.0, 'ce2': -1.6803, 'b2': 0.4146, 'b4': 0.4146}\n"
     ]
    }
   ],
   "source": [
    "outdir = os.path.join(os.path.expanduser('~'), 'Documents', 'github', 'pybird', 'data', 'eftboss', 'out')\n",
    "with open(os.path.join(outdir, 'fit_boss_onesky_pk_wc_cmass_ngc_l0.dat')) as f: data_file = f.read()\n",
    "eft_params_str = data_file.split(', \\n')[1].replace(\"# \", \"\")\n",
    "eft_params = {key: float(value) for key, value in (pair.split(': ') for pair in eft_params_str.split(', '))}\n",
    "print (eft_params)"
   ]
  },
  {
   "cell_type": "markdown",
   "metadata": {},
   "source": [
    "Now let us make the **PyBird** Correlator Engine compute: "
   ]
  },
  {
   "cell_type": "code",
   "execution_count": 16,
   "metadata": {},
   "outputs": [],
   "source": [
    "N = Correlator()\n",
    "\n",
    "N.set({'output': 'bPk', 'multipole': 3, 'kmax': 0.3, 'xdata': kd, \n",
    "       'km': 0.7, 'kr': 0.35, 'nd': 3e-4,           # these scales control the various EFT expansions...\n",
    "       'eft_basis': 'eftoflss', 'with_stoch': True, # there are various equivalent EFT parametrization one can choose\n",
    "       'with_bias': True}) \n",
    "\n",
    "N.compute({'kk': kk, 'pk_lin': pk_lin, 'f': f1, # here we also pass the growth rate f since we are now in redshift space\n",
    "           'bias': eft_params}) \n",
    "\n",
    "bPk = N.get()"
   ]
  },
  {
   "cell_type": "markdown",
   "metadata": {},
   "source": [
    "The scales controlling the various EFT expansions are well described in [2210.14931](https://arxiv.org/abs/2210.14931) (see also [2110.00016](https://arxiv.org/abs/2110.00016)).\n",
    "\n",
    "There are various equivalent basis for the EFT parameters that are implemented in **PyBird** (see `Correlator.info()`).  \n",
    "Those are described in e.g., [2208.05929](https://arxiv.org/abs/2208.05929).  \n",
    "For each basis, you can find the EFT parameter names recognized by **PyBird** in https://github.com/pierrexyz/pybird/tree/v1.1/data/eftboss/config"
   ]
  },
  {
   "cell_type": "code",
   "execution_count": 17,
   "metadata": {},
   "outputs": [
    {
     "data": {
      "image/png": "[encoded data removed]",
      "text/plain": [
       "<Figure size 700x400 with 1 Axes>"
      ]
     },
     "metadata": {},
     "output_type": "display_data"
    }
   ],
   "source": [
    "plt.figure(figsize=(7,4))\n",
    "for i in range(3): plt.errorbar(kd, kd * bPk[i], label=r'$\\ell=%s$' % (2*i))\n",
    "plt.xlabel(r'$k \\ [h/{\\rm Mpc}]$')\n",
    "plt.ylabel(r'$k \\ P_\\ell(k) \\ [{\\rm Mpc}/h]^2$')\n",
    "plt.legend()\n",
    "plt.show()"
   ]
  },
  {
   "cell_type": "markdown",
   "metadata": {},
   "source": [
    "#### Configuration space"
   ]
  },
  {
   "cell_type": "markdown",
   "metadata": {},
   "source": [
    "Finally, let us compute the multipoles of the correlation function of biased tracers. "
   ]
  },
  {
   "cell_type": "code",
   "execution_count": 18,
   "metadata": {},
   "outputs": [],
   "source": [
    "N = Correlator()\n",
    "\n",
    "N.set({'output': 'bCf', 'multipole': 3, 'kmax': 0.3, 'xdata': sd, 'km': 0.7, 'kr': 0.35,\n",
    "       'eft_basis': 'eftoflss'})          # there is no stochastic term in configuration space, see 2110.07539\n",
    "\n",
    "N.compute({'kk': kk, 'pk_lin': pk_lin, 'f': f1, 'bias': eft_params}) \n",
    "\n",
    "bCf = N.get()"
   ]
  },
  {
   "cell_type": "code",
   "execution_count": 19,
   "metadata": {},
   "outputs": [
    {
     "data": {
      "image/png": "[encoded data removed]",
      "text/plain": [
       "<Figure size 700x400 with 1 Axes>"
      ]
     },
     "metadata": {},
     "output_type": "display_data"
    }
   ],
   "source": [
    "plt.figure(figsize=(7,4))\n",
    "for i in range(3): plt.errorbar(sd, sd**2 * bCf[i], label=r'$\\ell=%s$' % (2*i))\n",
    "plt.xlabel(r'$s \\ [{\\rm Mpc}/h]$')\n",
    "plt.ylabel(r'$s^2 \\ \\xi_\\ell(s) \\ [{\\rm Mpc}/h]^2$')\n",
    "plt.legend()\n",
    "plt.show()"
   ]
  },
  {
   "cell_type": "markdown",
   "metadata": {},
   "source": [
    "# The **PyBird** _Tour d'Horizon_ (_Overview_)"
   ]
  },
  {
   "cell_type": "markdown",
   "metadata": {},
   "source": [
    "Beyond the first examples given above, we give a quick (non-exhaustive) overview of what **PyBird** can compute for you."
   ]
  },
  {
   "cell_type": "markdown",
   "metadata": {},
   "source": [
    "### The 'no-EFT parameter' computation"
   ]
  },
  {
   "cell_type": "markdown",
   "metadata": {},
   "source": [
    "In most practical cases, contrary to what we did above, it is better to ask **PyBird** to compute _without_ specifying the EFT parameters at this level.  "
   ]
  },
  {
   "cell_type": "code",
   "execution_count": 20,
   "metadata": {},
   "outputs": [],
   "source": [
    "N = Correlator()\n",
    "\n",
    "N.set({'output': 'bPk', 'multipole': 3, 'kmax': 0.3, 'xdata': kd, \n",
    "       'km': 0.7, 'kr': 0.35, 'nd': 3e-4,           # these scales control the various EFT expansions...\n",
    "       'eft_basis': 'eftoflss', 'with_stoch': True, # there are various equivalent EFT parametrization one can choose\n",
    "       'with_bias': False})                         # this is per default, here we write explicitly so you can see\n",
    "\n",
    "N.compute({'kk': kk, 'pk_lin': pk_lin, 'f': f1})"
   ]
  },
  {
   "cell_type": "markdown",
   "metadata": {},
   "source": [
    "It is a bit slower, because now all operations in the computation need to be done for the various pieces of the prediction.  \n",
    "\n",
    "However, we now have cosmology-dependent pieces that are computed, and we can get the predictions in almost no time for any set of EFT parameters.  \n",
    "This is usually the mode one wants to use if she wants to fast-sample the EFT parameters, for example. "
   ]
  },
  {
   "cell_type": "code",
   "execution_count": 21,
   "metadata": {},
   "outputs": [],
   "source": [
    "bPk = N.get(eft_params)"
   ]
  },
  {
   "cell_type": "markdown",
   "metadata": {},
   "source": [
    "### The **CLASS** / **PyBird** compatibility 'lazy hack'"
   ]
  },
  {
   "cell_type": "markdown",
   "metadata": {},
   "source": [
    "Too tired to think what linear cosmology to give to **PyBird** for it to compute?  \n",
    "No problem (if you have **CLASS** installed), just give to **PyBird** the cosmology that you usually give to **CLASS**, and **PyBird** will call **CLASS** for you. "
   ]
  },
  {
   "cell_type": "code",
   "execution_count": 22,
   "metadata": {},
   "outputs": [],
   "source": [
    "N = Correlator()\n",
    "\n",
    "N.set({'output': 'bPk', 'multipole': 3, 'kmax': 0.3, 'xdata': kd, \n",
    "       'z': z,        # it is now important to specify the redshift for CLASS\n",
    "       'km': 0.7, 'kr': 0.35, 'nd': 3e-4, \n",
    "       'eft_basis': 'eftoflss', 'with_stoch': True}) "
   ]
  },
  {
   "cell_type": "markdown",
   "metadata": {},
   "source": [
    "First way, **PyBird** Correlator Engine _creates_ a **CLASS** engine and **PyBird** asks **CLASS** the linear cosmology stuff: "
   ]
  },
  {
   "cell_type": "code",
   "execution_count": 23,
   "metadata": {},
   "outputs": [],
   "source": [
    "N.compute(cosmo, cosmo_module='class') \n",
    "bPk = N.get(eft_params)"
   ]
  },
  {
   "cell_type": "markdown",
   "metadata": {},
   "source": [
    "Second way, we _provide_ to **PyBird** Correlator Engine a **CLASS** engine and **PyBird** asks **CLASS** the linear cosmology.  \n",
    "This is useful if the same **CLASS** engine is used elsewhere in a joint-likelihood analysis, for example. "
   ]
  },
  {
   "cell_type": "code",
   "execution_count": 24,
   "metadata": {},
   "outputs": [],
   "source": [
    "N = Correlator()\n",
    "\n",
    "N.set({'output': 'bPk', 'multipole': 3, 'kmax': 0.3, 'xdata': kd, \n",
    "       'z': z,        # it is now important to specify the redshift for CLASS\n",
    "       'km': 0.7, 'kr': 0.35, 'nd': 3e-4, \n",
    "       'eft_basis': 'eftoflss', 'with_stoch': True}) "
   ]
  },
  {
   "cell_type": "code",
   "execution_count": 25,
   "metadata": {},
   "outputs": [],
   "source": [
    "N.compute(cosmo, cosmo_module='class', cosmo_engine=M) \n",
    "bPk = N.get(eft_params)"
   ]
  },
  {
   "cell_type": "markdown",
   "metadata": {},
   "source": [
    "### More options?"
   ]
  },
  {
   "cell_type": "markdown",
   "metadata": {},
   "source": [
    "There are many more stuff that **PyBird** can include in the prediction: geometrical (AP) distortion, survey mask, binning, redshift evolution, higher-order redshift-space counterterms, linear line-of-sight dependent (tidal alignment) bias, exact-time dependence...\n",
    "\n",
    "Just check the `Correlator.info()` !"
   ]
  },
  {
   "cell_type": "code",
   "execution_count": null,
   "metadata": {},
   "outputs": [],
   "source": []
  }
 ],
 "metadata": {
  "kernelspec": {
   "display_name": "Python 3",
   "language": "python",
   "name": "python3"
  },
  "language_info": {
   "codemirror_mode": {
    "name": "ipython",
    "version": 3
   },
   "file_extension": ".py",
   "mimetype": "text/x-python",
   "name": "python",
   "nbconvert_exporter": "python",
   "pygments_lexer": "ipython3",
   "version": "3.7.3"
  }
 },
 "nbformat": 4,
 "nbformat_minor": 2
}
